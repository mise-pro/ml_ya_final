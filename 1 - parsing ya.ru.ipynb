{
 "cells": [
  {
   "cell_type": "markdown",
   "metadata": {},
   "source": [
    "## Parsing market.ya.ru for review of mobile phones"
   ]
  },
  {
   "cell_type": "code",
   "execution_count": 1,
   "metadata": {
    "ExecuteTime": {
     "end_time": "2018-09-25T12:22:02.997274Z",
     "start_time": "2018-09-25T12:21:56.637162Z"
    }
   },
   "outputs": [],
   "source": [
    "%load_ext autoreload\n",
    "%autoreload 2\n",
    "import requests\n",
    "import bs4\n",
    "import functions as f\n",
    "from sklearn.externals import joblib\n",
    "import re"
   ]
  },
  {
   "cell_type": "code",
   "execution_count": 2,
   "metadata": {
    "ExecuteTime": {
     "end_time": "2018-09-25T12:22:08.200355Z",
     "start_time": "2018-09-25T12:22:05.219835Z"
    }
   },
   "outputs": [
    {
     "name": "stdout",
     "output_type": "stream",
     "text": [
      "At this moment there are 57315 reviews in data\n"
     ]
    }
   ],
   "source": [
    "data = joblib.load('DUMP_data.pkl')\n",
    "print ('At this moment there are {} reviews in data'.format(len(data)))"
   ]
  },
  {
   "cell_type": "code",
   "execution_count": 29,
   "metadata": {
    "ExecuteTime": {
     "end_time": "2018-08-31T08:23:50.696872Z",
     "start_time": "2018-08-31T08:03:18.557163Z"
    }
   },
   "outputs": [
    {
     "name": "stdout",
     "output_type": "stream",
     "text": [
      "Quantity of products: 2112\n"
     ]
    }
   ],
   "source": [
    "# pattern to parse\n",
    "#https://market.yandex.ru/catalog/54726/list?hid=91502&local-offers-first=0&viewtype=list&how=opinions&page=2\n",
    "# get new products\n",
    "productIds = []\n",
    "for pageOfProducts in range (1,50):\n",
    "    url = 'https://market.yandex.ru/catalog/54726/list?hid=91922&local-offers-first=0&viewtype=list&how=aprice&page={}'.format(pageOfProducts)\n",
    "    req = requests.get(url)\n",
    "    parser = bs4.BeautifulSoup(req.text, 'lxml')\n",
    "    \n",
    "    linksRaws = [a.get(\"href\") for a in parser.findAll('a', attrs={'class':'n-snippet-card2__image link'})]\n",
    "    if len(linksRaws) == 0:\n",
    "        break\n",
    "    for linkRaw in linksRaws:\n",
    "        productIds.append((re.search('/product/(.*)\\?show-', linkRaw)).group(1))\n",
    "print ('Quantity of products: {}'.format(len(productIds)))\n"
   ]
  },
  {
   "cell_type": "code",
   "execution_count": 30,
   "metadata": {
    "ExecuteTime": {
     "end_time": "2018-08-31T08:34:09.536228Z",
     "start_time": "2018-08-31T08:34:09.297068Z"
    }
   },
   "outputs": [
    {
     "name": "stdout",
     "output_type": "stream",
     "text": [
      "Calculated and will be parsed 399 products\n"
     ]
    }
   ],
   "source": [
    "#delete from productIds elems that are not in data\n",
    "alreadyParsedProductsIdx = []\n",
    "for idx in range (0,len(data)):\n",
    "    alreadyParsedProductsIdx.append(data[idx][0])\n",
    "\n",
    "productIds = list(set(productIds)-set(alreadyParsedProductsIdx))\n",
    "print ('Calculated and will be parsed {} products'.format(len(productIds)))\n",
    "\n",
    "lastSuccessedParsedProductIdx = 0"
   ]
  },
  {
   "cell_type": "code",
   "execution_count": 31,
   "metadata": {
    "ExecuteTime": {
     "end_time": "2018-08-31T09:58:51.891396Z",
     "start_time": "2018-08-31T08:34:18.696472Z"
    }
   },
   "outputs": [],
   "source": [
    "parsingDetected = False\n",
    "for productId in productIds[lastSuccessedParsedProductIdx:]:\n",
    "    #it can be improved to save only new reviews for existing products\n",
    "    countReviewsForProduct = 0\n",
    "    for page in range (1,150):\n",
    "        url = 'https://market.yandex.ru/product/{}/reviews?page={}'.format(productId, page)\n",
    "        \n",
    "        #make connection more stable \n",
    "        for _ in range(0,10):\n",
    "            try:\n",
    "                req = requests.get(url)\n",
    "                parser = bs4.BeautifulSoup(req.text, 'lxml')\n",
    "                break\n",
    "            except:\n",
    "                print ('Problem with network. Trying to reconnect...')\n",
    "                pass\n",
    "        \n",
    "        #this block should be unparsed if you are sure that all your products HAVE reviews\n",
    "        #check if ya detects my parsing\n",
    "        #if len(parser.findAll('div', attrs={'class':'n-product-review-item'})) == 0 and page == 1:\n",
    "        #    parsingDetected = True\n",
    "        #    print ('Probably, Ya detected my parsing. Parsing has stoped')\n",
    "        #    break\n",
    "        #check if there are any reviews\n",
    "        if len(parser.findAll('div', attrs={'class':'n-product-review-item'})) == 0:\n",
    "            break\n",
    "    \n",
    "        for fullReview in parser.findAll('div', attrs={'class':'n-product-review-item'}):\n",
    "            countReviewsForProduct += 1\n",
    "            data.append(f.get_review_details(fullReview, productId))\n",
    "    if parsingDetected:\n",
    "        # save for resume from this elemen next time\n",
    "        #lastSuccessedParsedProductIdx = productIds.index(productId)\n",
    "        print ('Last successed parsed product position was = {}. Product = {}'.format(lastSuccessedParsedProductIdx, productId))\n",
    "        parsingDetected = False\n",
    "        break\n",
    "    \n",
    "    ### realTime saving!!!!!!!!!!!!!!!!!!!!!!!!!!!!!!!!!!!!!!!!!\n",
    "    if countReviewsForProduct>0: #if we got something new to save\n",
    "        print ('Count down: {}.Total: {}. Product: {}. Parsed and saved to data. Reviews pages = {}, count reviews = {}.'.\n",
    "           format(len(productIds) - productIds.index(productId), len(data), productId, page-1, countReviewsForProduct))\n",
    "        _ = joblib.dump(data, 'DUMP_data.pkl', compress=9)\n",
    "    ### realTime saving!!!!!!!!!!!!!!!!!!!!!!!!!!!!!!!!!!!!!!!!!\n",
    "    \n",
    "    if countReviewsForProduct==0 and lastSuccessedParsedProductIdx%20==0:\n",
    "        print ('Count down: {}'.format(len(productIds) - productIds.index(productId)))\n",
    "    \n",
    "    lastSuccessedParsedProductIdx += 1\n",
    "    #print ('Now working on parsing product on total position {}'.format(productIds.index(productId)))\n",
    "print ('Done')    "
   ]
  },
  {
   "cell_type": "markdown",
   "metadata": {},
   "source": [
    "## Manual data save if needed"
   ]
  },
  {
   "cell_type": "code",
   "execution_count": 25,
   "metadata": {
    "ExecuteTime": {
     "end_time": "2018-08-31T07:25:31.460390Z",
     "start_time": "2018-08-31T07:25:06.237901Z"
    }
   },
   "outputs": [],
   "source": [
    "#save/load data\n",
    "#_ = joblib.dump(list(set(data)), 'DUMP_data.pkl', compress=9)\n"
   ]
  }
 ],
 "metadata": {
  "kernelspec": {
   "display_name": "Python 3",
   "language": "python",
   "name": "python3"
  },
  "language_info": {
   "codemirror_mode": {
    "name": "ipython",
    "version": 3
   },
   "file_extension": ".py",
   "mimetype": "text/x-python",
   "name": "python",
   "nbconvert_exporter": "python",
   "pygments_lexer": "ipython3",
   "version": "3.6.4"
  }
 },
 "nbformat": 4,
 "nbformat_minor": 2
}
