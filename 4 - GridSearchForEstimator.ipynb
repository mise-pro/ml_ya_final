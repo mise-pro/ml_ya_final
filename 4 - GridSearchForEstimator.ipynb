{
 "cells": [
  {
   "cell_type": "code",
   "execution_count": 1,
   "metadata": {
    "ExecuteTime": {
     "end_time": "2018-09-25T13:34:22.291029Z",
     "start_time": "2018-09-25T13:34:19.015834Z"
    }
   },
   "outputs": [],
   "source": [
    "%load_ext autoreload\n",
    "%autoreload 2\n",
    "\n",
    "from sklearn.linear_model import LogisticRegression, SGDClassifier\n",
    "from sklearn.feature_extraction.text import CountVectorizer, TfidfVectorizer\n",
    "from sklearn.svm import LinearSVC\n",
    "from sklearn.pipeline import Pipeline\n",
    "from sklearn.model_selection import ShuffleSplit, StratifiedKFold, cross_val_score\n",
    "\n",
    "import GridSearchCVcustom as GS"
   ]
  },
  {
   "cell_type": "code",
   "execution_count": 2,
   "metadata": {
    "ExecuteTime": {
     "end_time": "2018-09-25T13:34:23.531894Z",
     "start_time": "2018-09-25T13:34:22.293017Z"
    }
   },
   "outputs": [
    {
     "data": {
      "text/plain": [
       "54486"
      ]
     },
     "execution_count": 2,
     "metadata": {},
     "output_type": "execute_result"
    }
   ],
   "source": [
    "from sklearn.externals import joblib\n",
    "dataTrainNormalized = joblib.load('DUMP_reviews_normalized.pkl')\n",
    "labels = joblib.load('DUMP_labels_normalized.pkl')\n",
    "labels_=[]\n",
    "for idx in range (0, len(labels)):\n",
    "    labels_.append(1 if labels[idx] > 3 else 0)\n",
    "labels = labels_\n",
    "len(labels)"
   ]
  },
  {
   "cell_type": "code",
   "execution_count": null,
   "metadata": {
    "ExecuteTime": {
     "start_time": "2018-09-25T13:34:19.021Z"
    }
   },
   "outputs": [
    {
     "data": {
      "text/plain": [
       "{'clf': LinearSVC(C=1.0, class_weight=None, dual=True, fit_intercept=True,\n",
       "      intercept_scaling=1, loss='squared_hinge', max_iter=1000,\n",
       "      multi_class='ovr', penalty='l2', random_state=None, tol=0.0001,\n",
       "      verbose=0),\n",
       " 'vect': TfidfVectorizer(analyzer='word', binary=False, decode_error='strict',\n",
       "         dtype=<class 'numpy.int64'>, encoding='utf-8', input='content',\n",
       "         lowercase=True, max_df=1.0, max_features=None, min_df=1,\n",
       "         ngram_range=(1, 1), norm='l2', preprocessor=None, smooth_idf=True,\n",
       "         stop_words=None, strip_accents=None, sublinear_tf=False,\n",
       "         token_pattern='(?u)\\\\b\\\\w\\\\w+\\\\b', tokenizer=None, use_idf=True,\n",
       "         vocabulary=None)}"
      ]
     },
     "execution_count": 3,
     "metadata": {},
     "output_type": "execute_result"
    }
   ],
   "source": [
    "pipeline = GS.get_pipeline2(TfidfVectorizer(), LinearSVC())\n",
    "pipeline.named_steps "
   ]
  },
  {
   "cell_type": "code",
   "execution_count": null,
   "metadata": {
    "ExecuteTime": {
     "start_time": "2018-09-25T13:34:19.024Z"
    }
   },
   "outputs": [
    {
     "name": "stdout",
     "output_type": "stream",
     "text": [
      "Total iterations will be performed: 96\n",
      "These steps will be performed:\n",
      "Iter 1: clf__class_weight: balanced  clf__max_iter: 5000  clf__penalty: l2  vect__max_df: 1.0  vect__min_df: 2  vect__ngram_range: (1, 1)  \n",
      "Iter 2: clf__class_weight: balanced  clf__max_iter: 5000  clf__penalty: l2  vect__max_df: 1.0  vect__min_df: 2  vect__ngram_range: (1, 2)  \n",
      "Iter 3: clf__class_weight: balanced  clf__max_iter: 5000  clf__penalty: l2  vect__max_df: 1.0  vect__min_df: 2  vect__ngram_range: (1, 3)  \n",
      "Iter 4: clf__class_weight: balanced  clf__max_iter: 5000  clf__penalty: l2  vect__max_df: 1.0  vect__min_df: 3  vect__ngram_range: (1, 1)  \n",
      "Iter 5: clf__class_weight: balanced  clf__max_iter: 5000  clf__penalty: l2  vect__max_df: 1.0  vect__min_df: 3  vect__ngram_range: (1, 2)  \n",
      "Iter 6: clf__class_weight: balanced  clf__max_iter: 5000  clf__penalty: l2  vect__max_df: 1.0  vect__min_df: 3  vect__ngram_range: (1, 3)  \n",
      "Iter 7: clf__class_weight: balanced  clf__max_iter: 5000  clf__penalty: l2  vect__max_df: 1.0  vect__min_df: 0.01  vect__ngram_range: (1, 1)  \n",
      "Iter 8: clf__class_weight: balanced  clf__max_iter: 5000  clf__penalty: l2  vect__max_df: 1.0  vect__min_df: 0.01  vect__ngram_range: (1, 2)  \n",
      "Iter 9: clf__class_weight: balanced  clf__max_iter: 5000  clf__penalty: l2  vect__max_df: 1.0  vect__min_df: 0.01  vect__ngram_range: (1, 3)  \n",
      "Iter 10: clf__class_weight: balanced  clf__max_iter: 5000  clf__penalty: l2  vect__max_df: 1.0  vect__min_df: 0.02  vect__ngram_range: (1, 1)  \n",
      "Iter 11: clf__class_weight: balanced  clf__max_iter: 5000  clf__penalty: l2  vect__max_df: 1.0  vect__min_df: 0.02  vect__ngram_range: (1, 2)  \n",
      "Iter 12: clf__class_weight: balanced  clf__max_iter: 5000  clf__penalty: l2  vect__max_df: 1.0  vect__min_df: 0.02  vect__ngram_range: (1, 3)  \n",
      "Iter 13: clf__class_weight: balanced  clf__max_iter: 5000  clf__penalty: l2  vect__max_df: 0.99  vect__min_df: 2  vect__ngram_range: (1, 1)  \n",
      "Iter 14: clf__class_weight: balanced  clf__max_iter: 5000  clf__penalty: l2  vect__max_df: 0.99  vect__min_df: 2  vect__ngram_range: (1, 2)  \n",
      "Iter 15: clf__class_weight: balanced  clf__max_iter: 5000  clf__penalty: l2  vect__max_df: 0.99  vect__min_df: 2  vect__ngram_range: (1, 3)  \n",
      "Iter 16: clf__class_weight: balanced  clf__max_iter: 5000  clf__penalty: l2  vect__max_df: 0.99  vect__min_df: 3  vect__ngram_range: (1, 1)  \n",
      "Iter 17: clf__class_weight: balanced  clf__max_iter: 5000  clf__penalty: l2  vect__max_df: 0.99  vect__min_df: 3  vect__ngram_range: (1, 2)  \n",
      "Iter 18: clf__class_weight: balanced  clf__max_iter: 5000  clf__penalty: l2  vect__max_df: 0.99  vect__min_df: 3  vect__ngram_range: (1, 3)  \n",
      "Iter 19: clf__class_weight: balanced  clf__max_iter: 5000  clf__penalty: l2  vect__max_df: 0.99  vect__min_df: 0.01  vect__ngram_range: (1, 1)  \n",
      "Iter 20: clf__class_weight: balanced  clf__max_iter: 5000  clf__penalty: l2  vect__max_df: 0.99  vect__min_df: 0.01  vect__ngram_range: (1, 2)  \n",
      "Iter 21: clf__class_weight: balanced  clf__max_iter: 5000  clf__penalty: l2  vect__max_df: 0.99  vect__min_df: 0.01  vect__ngram_range: (1, 3)  \n",
      "Iter 22: clf__class_weight: balanced  clf__max_iter: 5000  clf__penalty: l2  vect__max_df: 0.99  vect__min_df: 0.02  vect__ngram_range: (1, 1)  \n",
      "Iter 23: clf__class_weight: balanced  clf__max_iter: 5000  clf__penalty: l2  vect__max_df: 0.99  vect__min_df: 0.02  vect__ngram_range: (1, 2)  \n",
      "Iter 24: clf__class_weight: balanced  clf__max_iter: 5000  clf__penalty: l2  vect__max_df: 0.99  vect__min_df: 0.02  vect__ngram_range: (1, 3)  \n",
      "Iter 25: clf__class_weight: balanced  clf__max_iter: 5000  clf__penalty: l2  vect__max_df: 0.98  vect__min_df: 2  vect__ngram_range: (1, 1)  \n",
      "Iter 26: clf__class_weight: balanced  clf__max_iter: 5000  clf__penalty: l2  vect__max_df: 0.98  vect__min_df: 2  vect__ngram_range: (1, 2)  \n",
      "Iter 27: clf__class_weight: balanced  clf__max_iter: 5000  clf__penalty: l2  vect__max_df: 0.98  vect__min_df: 2  vect__ngram_range: (1, 3)  \n",
      "Iter 28: clf__class_weight: balanced  clf__max_iter: 5000  clf__penalty: l2  vect__max_df: 0.98  vect__min_df: 3  vect__ngram_range: (1, 1)  \n",
      "Iter 29: clf__class_weight: balanced  clf__max_iter: 5000  clf__penalty: l2  vect__max_df: 0.98  vect__min_df: 3  vect__ngram_range: (1, 2)  \n",
      "Iter 30: clf__class_weight: balanced  clf__max_iter: 5000  clf__penalty: l2  vect__max_df: 0.98  vect__min_df: 3  vect__ngram_range: (1, 3)  \n",
      "Iter 31: clf__class_weight: balanced  clf__max_iter: 5000  clf__penalty: l2  vect__max_df: 0.98  vect__min_df: 0.01  vect__ngram_range: (1, 1)  \n",
      "Iter 32: clf__class_weight: balanced  clf__max_iter: 5000  clf__penalty: l2  vect__max_df: 0.98  vect__min_df: 0.01  vect__ngram_range: (1, 2)  \n",
      "Iter 33: clf__class_weight: balanced  clf__max_iter: 5000  clf__penalty: l2  vect__max_df: 0.98  vect__min_df: 0.01  vect__ngram_range: (1, 3)  \n",
      "Iter 34: clf__class_weight: balanced  clf__max_iter: 5000  clf__penalty: l2  vect__max_df: 0.98  vect__min_df: 0.02  vect__ngram_range: (1, 1)  \n",
      "Iter 35: clf__class_weight: balanced  clf__max_iter: 5000  clf__penalty: l2  vect__max_df: 0.98  vect__min_df: 0.02  vect__ngram_range: (1, 2)  \n",
      "Iter 36: clf__class_weight: balanced  clf__max_iter: 5000  clf__penalty: l2  vect__max_df: 0.98  vect__min_df: 0.02  vect__ngram_range: (1, 3)  \n",
      "Iter 37: clf__class_weight: balanced  clf__max_iter: 5000  clf__penalty: l2  vect__max_df: 0.95  vect__min_df: 2  vect__ngram_range: (1, 1)  \n",
      "Iter 38: clf__class_weight: balanced  clf__max_iter: 5000  clf__penalty: l2  vect__max_df: 0.95  vect__min_df: 2  vect__ngram_range: (1, 2)  \n",
      "Iter 39: clf__class_weight: balanced  clf__max_iter: 5000  clf__penalty: l2  vect__max_df: 0.95  vect__min_df: 2  vect__ngram_range: (1, 3)  \n",
      "Iter 40: clf__class_weight: balanced  clf__max_iter: 5000  clf__penalty: l2  vect__max_df: 0.95  vect__min_df: 3  vect__ngram_range: (1, 1)  \n",
      "Iter 41: clf__class_weight: balanced  clf__max_iter: 5000  clf__penalty: l2  vect__max_df: 0.95  vect__min_df: 3  vect__ngram_range: (1, 2)  \n",
      "Iter 42: clf__class_weight: balanced  clf__max_iter: 5000  clf__penalty: l2  vect__max_df: 0.95  vect__min_df: 3  vect__ngram_range: (1, 3)  \n",
      "Iter 43: clf__class_weight: balanced  clf__max_iter: 5000  clf__penalty: l2  vect__max_df: 0.95  vect__min_df: 0.01  vect__ngram_range: (1, 1)  \n",
      "Iter 44: clf__class_weight: balanced  clf__max_iter: 5000  clf__penalty: l2  vect__max_df: 0.95  vect__min_df: 0.01  vect__ngram_range: (1, 2)  \n",
      "Iter 45: clf__class_weight: balanced  clf__max_iter: 5000  clf__penalty: l2  vect__max_df: 0.95  vect__min_df: 0.01  vect__ngram_range: (1, 3)  \n",
      "Iter 46: clf__class_weight: balanced  clf__max_iter: 5000  clf__penalty: l2  vect__max_df: 0.95  vect__min_df: 0.02  vect__ngram_range: (1, 1)  \n",
      "Iter 47: clf__class_weight: balanced  clf__max_iter: 5000  clf__penalty: l2  vect__max_df: 0.95  vect__min_df: 0.02  vect__ngram_range: (1, 2)  \n",
      "Iter 48: clf__class_weight: balanced  clf__max_iter: 5000  clf__penalty: l2  vect__max_df: 0.95  vect__min_df: 0.02  vect__ngram_range: (1, 3)  \n",
      "Iter 49: clf__class_weight: balanced  clf__max_iter: 5000  clf__penalty: l1  vect__max_df: 1.0  vect__min_df: 2  vect__ngram_range: (1, 1)  \n",
      "Iter 50: clf__class_weight: balanced  clf__max_iter: 5000  clf__penalty: l1  vect__max_df: 1.0  vect__min_df: 2  vect__ngram_range: (1, 2)  \n",
      "Iter 51: clf__class_weight: balanced  clf__max_iter: 5000  clf__penalty: l1  vect__max_df: 1.0  vect__min_df: 2  vect__ngram_range: (1, 3)  \n",
      "Iter 52: clf__class_weight: balanced  clf__max_iter: 5000  clf__penalty: l1  vect__max_df: 1.0  vect__min_df: 3  vect__ngram_range: (1, 1)  \n",
      "Iter 53: clf__class_weight: balanced  clf__max_iter: 5000  clf__penalty: l1  vect__max_df: 1.0  vect__min_df: 3  vect__ngram_range: (1, 2)  \n",
      "Iter 54: clf__class_weight: balanced  clf__max_iter: 5000  clf__penalty: l1  vect__max_df: 1.0  vect__min_df: 3  vect__ngram_range: (1, 3)  \n",
      "Iter 55: clf__class_weight: balanced  clf__max_iter: 5000  clf__penalty: l1  vect__max_df: 1.0  vect__min_df: 0.01  vect__ngram_range: (1, 1)  \n",
      "Iter 56: clf__class_weight: balanced  clf__max_iter: 5000  clf__penalty: l1  vect__max_df: 1.0  vect__min_df: 0.01  vect__ngram_range: (1, 2)  \n",
      "Iter 57: clf__class_weight: balanced  clf__max_iter: 5000  clf__penalty: l1  vect__max_df: 1.0  vect__min_df: 0.01  vect__ngram_range: (1, 3)  \n",
      "Iter 58: clf__class_weight: balanced  clf__max_iter: 5000  clf__penalty: l1  vect__max_df: 1.0  vect__min_df: 0.02  vect__ngram_range: (1, 1)  \n",
      "Iter 59: clf__class_weight: balanced  clf__max_iter: 5000  clf__penalty: l1  vect__max_df: 1.0  vect__min_df: 0.02  vect__ngram_range: (1, 2)  \n",
      "Iter 60: clf__class_weight: balanced  clf__max_iter: 5000  clf__penalty: l1  vect__max_df: 1.0  vect__min_df: 0.02  vect__ngram_range: (1, 3)  \n",
      "Iter 61: clf__class_weight: balanced  clf__max_iter: 5000  clf__penalty: l1  vect__max_df: 0.99  vect__min_df: 2  vect__ngram_range: (1, 1)  \n",
      "Iter 62: clf__class_weight: balanced  clf__max_iter: 5000  clf__penalty: l1  vect__max_df: 0.99  vect__min_df: 2  vect__ngram_range: (1, 2)  \n",
      "Iter 63: clf__class_weight: balanced  clf__max_iter: 5000  clf__penalty: l1  vect__max_df: 0.99  vect__min_df: 2  vect__ngram_range: (1, 3)  \n",
      "Iter 64: clf__class_weight: balanced  clf__max_iter: 5000  clf__penalty: l1  vect__max_df: 0.99  vect__min_df: 3  vect__ngram_range: (1, 1)  \n",
      "Iter 65: clf__class_weight: balanced  clf__max_iter: 5000  clf__penalty: l1  vect__max_df: 0.99  vect__min_df: 3  vect__ngram_range: (1, 2)  \n",
      "Iter 66: clf__class_weight: balanced  clf__max_iter: 5000  clf__penalty: l1  vect__max_df: 0.99  vect__min_df: 3  vect__ngram_range: (1, 3)  \n",
      "Iter 67: clf__class_weight: balanced  clf__max_iter: 5000  clf__penalty: l1  vect__max_df: 0.99  vect__min_df: 0.01  vect__ngram_range: (1, 1)  \n",
      "Iter 68: clf__class_weight: balanced  clf__max_iter: 5000  clf__penalty: l1  vect__max_df: 0.99  vect__min_df: 0.01  vect__ngram_range: (1, 2)  \n",
      "Iter 69: clf__class_weight: balanced  clf__max_iter: 5000  clf__penalty: l1  vect__max_df: 0.99  vect__min_df: 0.01  vect__ngram_range: (1, 3)  \n",
      "Iter 70: clf__class_weight: balanced  clf__max_iter: 5000  clf__penalty: l1  vect__max_df: 0.99  vect__min_df: 0.02  vect__ngram_range: (1, 1)  \n",
      "Iter 71: clf__class_weight: balanced  clf__max_iter: 5000  clf__penalty: l1  vect__max_df: 0.99  vect__min_df: 0.02  vect__ngram_range: (1, 2)  \n",
      "Iter 72: clf__class_weight: balanced  clf__max_iter: 5000  clf__penalty: l1  vect__max_df: 0.99  vect__min_df: 0.02  vect__ngram_range: (1, 3)  \n",
      "Iter 73: clf__class_weight: balanced  clf__max_iter: 5000  clf__penalty: l1  vect__max_df: 0.98  vect__min_df: 2  vect__ngram_range: (1, 1)  \n",
      "Iter 74: clf__class_weight: balanced  clf__max_iter: 5000  clf__penalty: l1  vect__max_df: 0.98  vect__min_df: 2  vect__ngram_range: (1, 2)  \n",
      "Iter 75: clf__class_weight: balanced  clf__max_iter: 5000  clf__penalty: l1  vect__max_df: 0.98  vect__min_df: 2  vect__ngram_range: (1, 3)  \n",
      "Iter 76: clf__class_weight: balanced  clf__max_iter: 5000  clf__penalty: l1  vect__max_df: 0.98  vect__min_df: 3  vect__ngram_range: (1, 1)  \n",
      "Iter 77: clf__class_weight: balanced  clf__max_iter: 5000  clf__penalty: l1  vect__max_df: 0.98  vect__min_df: 3  vect__ngram_range: (1, 2)  \n",
      "Iter 78: clf__class_weight: balanced  clf__max_iter: 5000  clf__penalty: l1  vect__max_df: 0.98  vect__min_df: 3  vect__ngram_range: (1, 3)  \n",
      "Iter 79: clf__class_weight: balanced  clf__max_iter: 5000  clf__penalty: l1  vect__max_df: 0.98  vect__min_df: 0.01  vect__ngram_range: (1, 1)  \n",
      "Iter 80: clf__class_weight: balanced  clf__max_iter: 5000  clf__penalty: l1  vect__max_df: 0.98  vect__min_df: 0.01  vect__ngram_range: (1, 2)  \n",
      "Iter 81: clf__class_weight: balanced  clf__max_iter: 5000  clf__penalty: l1  vect__max_df: 0.98  vect__min_df: 0.01  vect__ngram_range: (1, 3)  \n",
      "Iter 82: clf__class_weight: balanced  clf__max_iter: 5000  clf__penalty: l1  vect__max_df: 0.98  vect__min_df: 0.02  vect__ngram_range: (1, 1)  \n",
      "Iter 83: clf__class_weight: balanced  clf__max_iter: 5000  clf__penalty: l1  vect__max_df: 0.98  vect__min_df: 0.02  vect__ngram_range: (1, 2)  \n",
      "Iter 84: clf__class_weight: balanced  clf__max_iter: 5000  clf__penalty: l1  vect__max_df: 0.98  vect__min_df: 0.02  vect__ngram_range: (1, 3)  \n",
      "Iter 85: clf__class_weight: balanced  clf__max_iter: 5000  clf__penalty: l1  vect__max_df: 0.95  vect__min_df: 2  vect__ngram_range: (1, 1)  \n",
      "Iter 86: clf__class_weight: balanced  clf__max_iter: 5000  clf__penalty: l1  vect__max_df: 0.95  vect__min_df: 2  vect__ngram_range: (1, 2)  \n",
      "Iter 87: clf__class_weight: balanced  clf__max_iter: 5000  clf__penalty: l1  vect__max_df: 0.95  vect__min_df: 2  vect__ngram_range: (1, 3)  \n",
      "Iter 88: clf__class_weight: balanced  clf__max_iter: 5000  clf__penalty: l1  vect__max_df: 0.95  vect__min_df: 3  vect__ngram_range: (1, 1)  \n",
      "Iter 89: clf__class_weight: balanced  clf__max_iter: 5000  clf__penalty: l1  vect__max_df: 0.95  vect__min_df: 3  vect__ngram_range: (1, 2)  \n",
      "Iter 90: clf__class_weight: balanced  clf__max_iter: 5000  clf__penalty: l1  vect__max_df: 0.95  vect__min_df: 3  vect__ngram_range: (1, 3)  \n",
      "Iter 91: clf__class_weight: balanced  clf__max_iter: 5000  clf__penalty: l1  vect__max_df: 0.95  vect__min_df: 0.01  vect__ngram_range: (1, 1)  \n",
      "Iter 92: clf__class_weight: balanced  clf__max_iter: 5000  clf__penalty: l1  vect__max_df: 0.95  vect__min_df: 0.01  vect__ngram_range: (1, 2)  \n",
      "Iter 93: clf__class_weight: balanced  clf__max_iter: 5000  clf__penalty: l1  vect__max_df: 0.95  vect__min_df: 0.01  vect__ngram_range: (1, 3)  \n",
      "Iter 94: clf__class_weight: balanced  clf__max_iter: 5000  clf__penalty: l1  vect__max_df: 0.95  vect__min_df: 0.02  vect__ngram_range: (1, 1)  \n",
      "Iter 95: clf__class_weight: balanced  clf__max_iter: 5000  clf__penalty: l1  vect__max_df: 0.95  vect__min_df: 0.02  vect__ngram_range: (1, 2)  \n",
      "Iter 96: clf__class_weight: balanced  clf__max_iter: 5000  clf__penalty: l1  vect__max_df: 0.95  vect__min_df: 0.02  vect__ngram_range: (1, 3)  \n"
     ]
    },
    {
     "name": "stdout",
     "output_type": "stream",
     "text": [
      "New best result = 0.85132 (std = 0.00228) during 31.0 [secs] (iter = 1) for search with params \n",
      "dict_items([('clf', LinearSVC(C=1.0, class_weight=None, dual=True, fit_intercept=True,\n",
      "     intercept_scaling=1, loss='squared_hinge', max_iter=1000,\n",
      "     multi_class='ovr', penalty='l2', random_state=None, tol=0.0001,\n",
      "     verbose=0)), ('clf__class_weight', 'balanced'), ('clf__max_iter', 5000), ('clf__penalty', 'l2'), ('vect', TfidfVectorizer(analyzer='word', binary=False, decode_error='strict',\n",
      "        dtype=<class 'numpy.int64'>, encoding='utf-8', input='content',\n",
      "        lowercase=True, max_df=1.0, max_features=None, min_df=1,\n",
      "        ngram_range=(1, 1), norm='l2', preprocessor=None, smooth_idf=True,\n",
      "        stop_words=None, strip_accents=None, sublinear_tf=False,\n",
      "        token_pattern='(?u)\\\\b\\\\w\\\\w+\\\\b', tokenizer=None, use_idf=True,\n",
      "        vocabulary=None)), ('vect__max_df', 1.0), ('vect__min_df', 2), ('vect__ngram_range', (1, 1))])\n",
      "\n",
      "Iterations to perform: 94\n",
      "Average time for iteration [secs]: 15.6\n",
      "Job will be done in (approximately) [mins] : 24.5\n",
      "\n",
      "New best result = 0.87556 (std = 0.00342) during 86.0 [secs] (iter = 2) for search with params \n",
      "dict_items([('clf', LinearSVC(C=1.0, class_weight=None, dual=True, fit_intercept=True,\n",
      "     intercept_scaling=1, loss='squared_hinge', max_iter=1000,\n",
      "     multi_class='ovr', penalty='l2', random_state=None, tol=0.0001,\n",
      "     verbose=0)), ('clf__class_weight', 'balanced'), ('clf__max_iter', 5000), ('clf__penalty', 'l2'), ('vect', TfidfVectorizer(analyzer='word', binary=False, decode_error='strict',\n",
      "        dtype=<class 'numpy.int64'>, encoding='utf-8', input='content',\n",
      "        lowercase=True, max_df=1.0, max_features=None, min_df=1,\n",
      "        ngram_range=(1, 1), norm='l2', preprocessor=None, smooth_idf=True,\n",
      "        stop_words=None, strip_accents=None, sublinear_tf=False,\n",
      "        token_pattern='(?u)\\\\b\\\\w\\\\w+\\\\b', tokenizer=None, use_idf=True,\n",
      "        vocabulary=None)), ('vect__max_df', 1.0), ('vect__min_df', 2), ('vect__ngram_range', (1, 2))])\n",
      "\n"
     ]
    }
   ],
   "source": [
    "param_grid = {'clf': [LinearSVC()],\n",
    "              'clf__class_weight': ['balanced'],\n",
    "              #'clf__C': [1., 0.01, 0.1, 10.],\n",
    "              'clf__penalty': ['l2','l1'],\n",
    "              'clf__max_iter': [5000],\n",
    "              #'clf__loss': ['hinge','log'],\n",
    "\n",
    "              #'vect': [CountVectorizer(),\n",
    "              'vect': [TfidfVectorizer()],\n",
    "              'vect__min_df': [2,3,0.01,0.02],\n",
    "              'vect__max_df': [1.,0.99,0.98, 0.95],\n",
    "              #'vect__max_features': [10],\n",
    "              'vect__ngram_range': [(1,1), (1,2), (1,3)]\n",
    "             }\n",
    "cv = StratifiedKFold(n_splits=5, shuffle=False)\n",
    "bestScore, bestScoreParams = GS.GridSearchCVcustom(pipeline, param_grid, dataTrainNormalized[:], labels[:], cv=cv, countdownElems=2, n_jobs = 4, pre_dispatch=2, showSteps=True)\n",
    "#opt = GridSearchCV(pipeline, param_grid, n_jobs=-1, cv=cv)\n",
    "#opt.fit(dataTrainNormalized[:], labels[:])"
   ]
  },
  {
   "cell_type": "code",
   "execution_count": null,
   "metadata": {
    "ExecuteTime": {
     "start_time": "2018-09-25T13:34:19.027Z"
    }
   },
   "outputs": [],
   "source": [
    "print ('bestScore = {}\\nbestScoreParams = {}'.format(bestScore, bestScoreParams))"
   ]
  },
  {
   "cell_type": "code",
   "execution_count": null,
   "metadata": {
    "ExecuteTime": {
     "start_time": "2018-09-25T13:34:19.033Z"
    }
   },
   "outputs": [],
   "source": [
    "#for SGDClassifier()\n",
    "param_grid = {'clf': [SGDClassifier()],\n",
    "              'clf__n_jobs': [-1],\n",
    "              'clf__class_weight': ['balanced'],\n",
    "              'clf__alpha': [0.0001,0.001,0.01, 0.1],\n",
    "              'clf__penalty': ['l2','l1'],\n",
    "              'clf__loss': ['hinge','log'],\n",
    "\n",
    "              #'vect': [CountVectorizer(),\n",
    "              'vect': [TfidfVectorizer()],\n",
    "              'vect__min_df': [2,3,0.01,0.02],\n",
    "              'vect__max_df': [1.,0.99,0.98, 0.95],\n",
    "              #'vect__max_features': [10],\n",
    "              'vect__ngram_range': [(1,1), (1,2), (1,3), (1,4)]\n",
    "             }"
   ]
  }
 ],
 "metadata": {
  "kernelspec": {
   "display_name": "Python 3",
   "language": "python",
   "name": "python3"
  },
  "language_info": {
   "codemirror_mode": {
    "name": "ipython",
    "version": 3
   },
   "file_extension": ".py",
   "mimetype": "text/x-python",
   "name": "python",
   "nbconvert_exporter": "python",
   "pygments_lexer": "ipython3",
   "version": "3.6.4"
  }
 },
 "nbformat": 4,
 "nbformat_minor": 2
}
